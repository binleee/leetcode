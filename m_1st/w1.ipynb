{
 "cells": [
  {
   "cell_type": "markdown",
   "metadata": {},
   "source": [
    "### day1"
   ]
  },
  {
   "cell_type": "code",
   "execution_count": 18,
   "metadata": {},
   "outputs": [],
   "source": [
    "# 9. palindrome number\n",
    "# 03/04 Monday\n",
    "# [::-1]은 역순으로 \n",
    "class Solution:\n",
    "  def isPalindrome(self, x: int) -> bool:\n",
    "    return False if x < 0 else str(x)[::-1] == str(x)\n",
    "param_1 = 121\n",
    "\n",
    "ret = Solution().isPalindrome(param_1)\n"
   ]
  },
  {
   "cell_type": "code",
   "execution_count": 22,
   "metadata": {},
   "outputs": [
    {
     "name": "stdout",
     "output_type": "stream",
     "text": [
      "58\n"
     ]
    }
   ],
   "source": [
    "# 13. Roman to Integer\n",
    "# 03/04 Monday\n",
    "# 간단하게\n",
    "class Solution(object):\n",
    "    def romanToInt(self, s):\n",
    "        roman = {'I':1, 'V': 5, 'X' : 10, 'L' : 50, 'C' : 100, 'D' : 500, 'M' : 1000}\n",
    "        answer = 0\n",
    "        \n",
    "        for i in range(len(s)-1):\n",
    "            if roman[s[i]] < roman[s[i+1]]:\n",
    "                answer -= roman[s[i]]\n",
    "            else:\n",
    "                answer += roman[s[i]]\n",
    "        return answer + roman[s[-1]]\n",
    "   \n",
    "param_1 = \"LVIII\"\n",
    "ret = Solution().romanToInt(param_1)\n",
    "print(ret)"
   ]
  },
  {
   "cell_type": "code",
   "execution_count": 28,
   "metadata": {},
   "outputs": [
    {
     "name": "stdout",
     "output_type": "stream",
     "text": [
      "fl\n"
     ]
    }
   ],
   "source": [
    "# 14. Longest Common prefix\n",
    "# 03/04 Monday\n",
    "from typing import List \n",
    "class Solution:\n",
    "    def longestCommonPrefix(self, strs: List[str]) -> str:\n",
    "        if not strs: \n",
    "            return \"\"\n",
    "            \n",
    "        shortest_str = min(strs, key=len)  # 가장 짧은 문자열을 찾습니다.\n",
    "        \n",
    "        for i, char in enumerate(shortest_str):\n",
    "            for other in strs:\n",
    "                if other[i] != char:  # 다른 문자열과 비교하여 같은 위치의 문자가 다르면, 그 전까지의 접두사를 반환합니다.\n",
    "                    return shortest_str[:i]\n",
    "        \n",
    "        return shortest_str  # 모든 문자열이 같은 접두사를 가지면, 가장 짧은 문자열을 반환합니다.\n",
    "            \n",
    "\n",
    "        \n",
    "param_1 = [\"flower\",\"flow\",\"flight\"] \n",
    "ret = Solution().longestCommonPrefix(param_1)\n",
    "print(ret)\n"
   ]
  },
  {
   "cell_type": "code",
   "execution_count": 34,
   "metadata": {},
   "outputs": [
    {
     "name": "stdout",
     "output_type": "stream",
     "text": [
      "True\n"
     ]
    }
   ],
   "source": [
    "# 20. Valid Parentheses \n",
    "# 03/04 Monday\n",
    "class Solution:\n",
    "    def isValid(self, s: str) -> bool:\n",
    "\n",
    "        bracket_map = {\"(\": \")\", \"[\": \"]\",  \"{\": \"}\"}\n",
    "        open_par = set([\"(\", \"[\", \"{\"])\n",
    "        stack = []\n",
    "\n",
    "        for i in s:\n",
    "            if i in open_par:\n",
    "                stack.append(i)\n",
    "            elif stack and i == bracket_map[stack[-1]]:\n",
    "                    stack.pop()\n",
    "            else:\n",
    "                return False\n",
    "        return stack == []\n",
    "param_1 = '()'\n",
    "param_2 = \"()[]\"\n",
    "ret = Solution().isValid(param_1)\n",
    "print(ret)"
   ]
  },
  {
   "cell_type": "markdown",
   "metadata": {},
   "source": [
    "### day2"
   ]
  },
  {
   "cell_type": "code",
   "execution_count": 9,
   "metadata": {},
   "outputs": [
    {
     "name": "stdout",
     "output_type": "stream",
     "text": [
      "[0]\n"
     ]
    }
   ],
   "source": [
    "# 21. Merge Two Sorted Lists\n",
    "# 03/05 Tuesday\n",
    "# 리스트 내림차순..? --> 맞긴한데 리스트가 아닌 Linked List임\n",
    "# (list)새로운 정렬된 리스트를 반환하는 함수는 sorted 함수이고, 리스트 자체를 정렬시켜버리는 것은 sort 함수입니다.\n",
    "\n",
    "from typing import Optional\n",
    "class ListNode:\n",
    "    def __init__(self, val=0, next=None):\n",
    "        self.val = val\n",
    "        self.next = next\n",
    "class Solution:\n",
    "    def mergeTwoLists(self, list1: Optional[ListNode], list2: Optional[ListNode]) -> Optional[ListNode]:\n",
    "        '''\n",
    "        if len(list1) == 0 and len(list2) == 0: \n",
    "            return [] \n",
    "        tmp = list1 + list2 \n",
    "        result = sorted(tmp, reverse = False)\n",
    "        return result \n",
    "        '''\n",
    "        # 초기 헤드 노드 생성\n",
    "        head = tail = ListNode(0)\n",
    "        # list1과 list2가 모두 None이 될 때까지 반복\n",
    "        while list1 and list2:\n",
    "            # 두 리스트의 현재 노드 값을 비교하여 작은 값을 tail 노드로 인동\n",
    "            if list1.val < list2.val: \n",
    "                tail.next = list1 \n",
    "                list1 = list1.next \n",
    "            else: \n",
    "                tail.next = list2 \n",
    "                list2 = list2.next \n",
    "            tail = tail.next \n",
    "            \n",
    "        # list1이나 list2 중 아직 노드가 남아있다면, 남은 노드를 tail 노드 뒤에 연결\n",
    "        tail.next = list1 if list1 else list2 \n",
    "        return head.next\n",
    "        \n",
    "        \n",
    "\n",
    "p1_l1 = [1,2,4]\n",
    "p1_l2 = [1,3,4]\n",
    "\n",
    "p2_l1 = [] \n",
    "p2_l2 = [] \n",
    "\n",
    "p3_l1 = [] \n",
    "p3_l2 = [0]\n",
    "\n",
    "res = Solution().mergeTwoLists(p3_l1, p3_l2)\n",
    "print(res)\n",
    "        \n",
    "        \n",
    "# 연결리스트에 대한 기본 개념이 없었네..."
   ]
  },
  {
   "cell_type": "code",
   "execution_count": null,
   "metadata": {},
   "outputs": [],
   "source": [
    "# 26. Remove duplicates from sorted array \n",
    "# 03/05 Tuesday\n",
    "class Solution:\n",
    "    def removeDuplicates(self, nums: List[int]) -> int:\n",
    "        "
   ]
  }
 ],
 "metadata": {
  "kernelspec": {
   "display_name": "base",
   "language": "python",
   "name": "python3"
  },
  "language_info": {
   "codemirror_mode": {
    "name": "ipython",
    "version": 3
   },
   "file_extension": ".py",
   "mimetype": "text/x-python",
   "name": "python",
   "nbconvert_exporter": "python",
   "pygments_lexer": "ipython3",
   "version": "3.9.12"
  }
 },
 "nbformat": 4,
 "nbformat_minor": 2
}

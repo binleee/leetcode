{
 "cells": [
  {
   "cell_type": "markdown",
   "metadata": {},
   "source": [
    "### day1"
   ]
  },
  {
   "cell_type": "code",
   "execution_count": 1,
   "metadata": {},
   "outputs": [],
   "source": [
    "# 9. palindrome number\n",
    "# 03/04 Monday\n",
    "# [::-1]은 역순으로 \n",
    "class Solution:\n",
    "  def isPalindrome(self, x: int) -> bool:\n",
    "    return False if x < 0 else str(x)[::-1] == str(x)\n",
    "param_1 = 121\n",
    "\n",
    "ret = Solution().isPalindrome(param_1)\n"
   ]
  },
  {
   "cell_type": "code",
   "execution_count": 2,
   "metadata": {},
   "outputs": [
    {
     "name": "stdout",
     "output_type": "stream",
     "text": [
      "58\n"
     ]
    }
   ],
   "source": [
    "# 13. Roman to Integer\n",
    "# 03/04 Monday\n",
    "# 간단하게\n",
    "class Solution(object):\n",
    "    def romanToInt(self, s):\n",
    "        roman = {'I':1, 'V': 5, 'X' : 10, 'L' : 50, 'C' : 100, 'D' : 500, 'M' : 1000}\n",
    "        answer = 0\n",
    "        \n",
    "        for i in range(len(s)-1):\n",
    "            if roman[s[i]] < roman[s[i+1]]:\n",
    "                answer -= roman[s[i]]\n",
    "            else:\n",
    "                answer += roman[s[i]]\n",
    "        return answer + roman[s[-1]]\n",
    "   \n",
    "param_1 = \"LVIII\"\n",
    "ret = Solution().romanToInt(param_1)\n",
    "print(ret)"
   ]
  },
  {
   "cell_type": "code",
   "execution_count": 3,
   "metadata": {},
   "outputs": [
    {
     "name": "stdout",
     "output_type": "stream",
     "text": [
      "fl\n"
     ]
    }
   ],
   "source": [
    "# 14. Longest Common prefix\n",
    "# 03/04 Monday\n",
    "from typing import List \n",
    "class Solution:\n",
    "    def longestCommonPrefix(self, strs: List[str]) -> str:\n",
    "        if not strs: \n",
    "            return \"\"\n",
    "            \n",
    "        shortest_str = min(strs, key=len)  # 가장 짧은 문자열을 찾습니다.\n",
    "        \n",
    "        for i, char in enumerate(shortest_str):\n",
    "            for other in strs:\n",
    "                if other[i] != char:  # 다른 문자열과 비교하여 같은 위치의 문자가 다르면, 그 전까지의 접두사를 반환합니다.\n",
    "                    return shortest_str[:i]\n",
    "        \n",
    "        return shortest_str  # 모든 문자열이 같은 접두사를 가지면, 가장 짧은 문자열을 반환합니다.\n",
    "            \n",
    "\n",
    "        \n",
    "param_1 = [\"flower\",\"flow\",\"flight\"] \n",
    "ret = Solution().longestCommonPrefix(param_1)\n",
    "print(ret)\n"
   ]
  },
  {
   "cell_type": "code",
   "execution_count": 4,
   "metadata": {},
   "outputs": [
    {
     "name": "stdout",
     "output_type": "stream",
     "text": [
      "True\n"
     ]
    }
   ],
   "source": [
    "# 20. Valid Parentheses \n",
    "# 03/04 Monday\n",
    "class Solution:\n",
    "    def isValid(self, s: str) -> bool:\n",
    "\n",
    "        bracket_map = {\"(\": \")\", \"[\": \"]\",  \"{\": \"}\"}\n",
    "        open_par = set([\"(\", \"[\", \"{\"])\n",
    "        stack = []\n",
    "\n",
    "        for i in s:\n",
    "            if i in open_par:\n",
    "                stack.append(i)\n",
    "            elif stack and i == bracket_map[stack[-1]]:\n",
    "                    stack.pop()\n",
    "            else:\n",
    "                return False\n",
    "        return stack == []\n",
    "param_1 = '()'\n",
    "param_2 = \"()[]\"\n",
    "ret = Solution().isValid(param_1)\n",
    "print(ret)"
   ]
  },
  {
   "cell_type": "markdown",
   "metadata": {},
   "source": [
    "### day2"
   ]
  },
  {
   "cell_type": "code",
   "execution_count": 5,
   "metadata": {},
   "outputs": [
    {
     "name": "stdout",
     "output_type": "stream",
     "text": [
      "[0]\n"
     ]
    }
   ],
   "source": [
    "# 21. Merge Two Sorted Lists\n",
    "# 03/05 Tuesday\n",
    "# 리스트 내림차순..? --> 맞긴한데 리스트가 아닌 Linked List임\n",
    "# (list)새로운 정렬된 리스트를 반환하는 함수는 sorted 함수이고, 리스트 자체를 정렬시켜버리는 것은 sort 함수입니다.\n",
    "\n",
    "from typing import Optional\n",
    "class ListNode:\n",
    "    def __init__(self, val=0, next=None):\n",
    "        self.val = val\n",
    "        self.next = next\n",
    "class Solution:\n",
    "    def mergeTwoLists(self, list1: Optional[ListNode], list2: Optional[ListNode]) -> Optional[ListNode]:\n",
    "        '''\n",
    "        if len(list1) == 0 and len(list2) == 0: \n",
    "            return [] \n",
    "        tmp = list1 + list2 \n",
    "        result = sorted(tmp, reverse = False)\n",
    "        return result \n",
    "        '''\n",
    "        # 초기 헤드 노드 생성\n",
    "        head = tail = ListNode(0)\n",
    "        # list1과 list2가 모두 None이 될 때까지 반복\n",
    "        while list1 and list2:\n",
    "            # 두 리스트의 현재 노드 값을 비교하여 작은 값을 tail 노드로 인동\n",
    "            if list1.val < list2.val: \n",
    "                tail.next = list1 \n",
    "                list1 = list1.next \n",
    "            else: \n",
    "                tail.next = list2 \n",
    "                list2 = list2.next \n",
    "            tail = tail.next \n",
    "            \n",
    "        # list1이나 list2 중 아직 노드가 남아있다면, 남은 노드를 tail 노드 뒤에 연결\n",
    "        tail.next = list1 if list1 else list2 \n",
    "        return head.next\n",
    "        \n",
    "        \n",
    "\n",
    "p1_l1 = [1,2,4]\n",
    "p1_l2 = [1,3,4]\n",
    "\n",
    "p2_l1 = [] \n",
    "p2_l2 = [] \n",
    "\n",
    "p3_l1 = [] \n",
    "p3_l2 = [0]\n",
    "\n",
    "res = Solution().mergeTwoLists(p3_l1, p3_l2)\n",
    "print(res)\n",
    "        \n",
    "        \n",
    "# 연결리스트에 대한 기본 개념이 없었네..."
   ]
  },
  {
   "cell_type": "code",
   "execution_count": 6,
   "metadata": {},
   "outputs": [
    {
     "name": "stdout",
     "output_type": "stream",
     "text": [
      "2\n"
     ]
    }
   ],
   "source": [
    "# 26. Remove duplicates from sorted array \n",
    "# 03/05 Tuesday\n",
    "from typing import List \n",
    "class Solution:\n",
    "    def removeDuplicates(self, nums: List[int]) -> int:\n",
    "        # list가 들어오면 중복된 원소는 _로 바꿔서 return\n",
    "        # [IDEA1] pandas drop duplicates하면 안되낭.. \n",
    "        # [IDEA2] tmp list에 처음 나온애들 담아놓고 같은거 또 나오면 변경\n",
    "        # Idea2 \n",
    "        '''\n",
    "        newbie =[] \n",
    "        for item in nums:\n",
    "            if item not in newbie:\n",
    "                # 처음 본 애가 들어온거니\n",
    "                newbie.append(item)\n",
    "            else:\n",
    "                # 이미 있었던 애라면 '_'로 바꿔줘야함\n",
    "                item = '_'\n",
    "        return nums\n",
    "        ''' \n",
    "        if not nums:\n",
    "            return 0 \n",
    "        pointer = 1 \n",
    "        for i in range(1, len(nums)):\n",
    "            if nums[i] != nums[i-1]:\n",
    "                nums[pointer] = nums[i] \n",
    "                pointer += 1 \n",
    "        return pointer \n",
    "        \n",
    "nums = [1,1,2]\n",
    "res = Solution().removeDuplicates(nums)\n",
    "print(res)\n",
    "                "
   ]
  },
  {
   "cell_type": "code",
   "execution_count": 7,
   "metadata": {},
   "outputs": [
    {
     "name": "stdout",
     "output_type": "stream",
     "text": [
      "5\n"
     ]
    }
   ],
   "source": [
    "# 27. Remove Element \n",
    "# 03/05 Tuesday \n",
    "# del로 해당 원소만 삭제\n",
    "class Solution:\n",
    "    def removeElement(self, nums : List[int], val : int) -> int: \n",
    "        # nums는 input list , val은 삭제할 원소\n",
    "        # 삭제된 원소는 순서 상관없이 뒤에서부터 _로 변경됨\n",
    "        '''\n",
    "        if val not in nums:\n",
    "            # 제거해야할 원소가 리스트에 없는 경우, 리스트의 길이 반환\n",
    "            return len(nums)\n",
    "        count = 0 \n",
    "        for i in range(1, len(nums)):\n",
    "            if nums[i] != val:\n",
    "                nums[count] = nums[i]\n",
    "                count += 1\n",
    "        return count\n",
    "        '''\n",
    "        for i in range(len(nums)):\n",
    "            # 매번 0번째 인덱스가 삭제되니 0으로 고정해도 상관없음\n",
    "            if nums[0] != val:\n",
    "                nums.append(nums[0])\n",
    "                del nums[0]\n",
    "            else:\n",
    "                del nums[0]\n",
    "        return len(nums)\n",
    "            \n",
    "        \n",
    "                \n",
    "            \n",
    "          \n",
    "n = [0,1,2,2,3,0,4,2]\n",
    "v = 2\n",
    "res = Solution().removeElement(n,v)\n",
    "print(res)"
   ]
  },
  {
   "cell_type": "code",
   "execution_count": 8,
   "metadata": {},
   "outputs": [
    {
     "name": "stdout",
     "output_type": "stream",
     "text": [
      "0\n"
     ]
    }
   ],
   "source": [
    "# 28. Find the index of the first occurrence in a string\n",
    "# 03/05 Tuesday \n",
    "class Solution:\n",
    "    def strStr(self, haystack: str, needle: str) -> int:\n",
    "        if needle not in haystack:\n",
    "            return -1\n",
    "        else:\n",
    "            return haystack.index(needle)\n",
    "\n",
    "haystack = \"sadbutsad\"\n",
    "needle = \"sad\"\n",
    "res = Solution().strStr(haystack, needle)\n",
    "print(res)"
   ]
  },
  {
   "cell_type": "code",
   "execution_count": 9,
   "metadata": {},
   "outputs": [
    {
     "name": "stdout",
     "output_type": "stream",
     "text": [
      "0\n"
     ]
    }
   ],
   "source": [
    "# 28. Find the index of the first occurrence in a string\n",
    "# 03/05 Tuesday \n",
    "class Solution:\n",
    "    def strStr(self, haystack: str, needle: str) -> int:\n",
    "        nl, hl = len(needle), len(haystack)\n",
    "        if nl == 0:\n",
    "            return nl\n",
    "        if hl < nl:\n",
    "            return -1\n",
    "        # 여기가 sliding window 부분\n",
    "        for i in range(hl-nl+1):\n",
    "            if haystack[i:i+nl] == needle:\n",
    "                return i\n",
    "        return -1\n",
    "haystack = \"sadbutsad\"\n",
    "needle = \"sad\"\n",
    "res = Solution().strStr(haystack, needle)\n",
    "print(res)"
   ]
  },
  {
   "cell_type": "code",
   "execution_count": 10,
   "metadata": {},
   "outputs": [
    {
     "name": "stdout",
     "output_type": "stream",
     "text": [
      "2\n"
     ]
    }
   ],
   "source": [
    "# Search Insert Position \n",
    "# 03/05 Tuesday\n",
    "class Solution:\n",
    "    def searchInsert(self, nums : List[int], target : int) -> int: \n",
    "        # 1. 실제 위치\n",
    "        # 2. 없다면 해당 타겟이 들어갈 위치\n",
    "        # 0 1 2 3 ,,,\n",
    "        \n",
    "        '''# 실제 위치가 있는 경우\n",
    "        if target in nums:\n",
    "            for i,item in enumerate(nums):\n",
    "                if target == item:\n",
    "                    return i \n",
    "        # 없다면 해당 타겟이 들어갈 위치\n",
    "        else:\n",
    "            for i in range(len(nums)):\n",
    "                Min = item[i] \n",
    "                Max = item[i+1]\n",
    "                if target < Min:\n",
    "                    # 가장 작은 경우\n",
    "                    return i \n",
    "                elif target > Min:\n",
    "                    i+=1\n",
    "                \n",
    "                elif target > Max:\n",
    "                    # 가장 큰 경우\n",
    "                    return i+1\n",
    "        '''\n",
    "        if target in nums: \n",
    "            return nums.index(target) # 이거 처음 알았음\n",
    "        else :\n",
    "            for i in range(len(nums)):\n",
    "                if nums[i] > target:\n",
    "                    return i \n",
    "            return len(nums)\n",
    "                \n",
    "            \n",
    "        \n",
    "nums = [1,3,5,6]\n",
    "target = 5    \n",
    "res = Solution().searchInsert(nums, target)\n",
    "print(res)"
   ]
  },
  {
   "cell_type": "code",
   "execution_count": 11,
   "metadata": {},
   "outputs": [],
   "source": [
    "# Length of last word\n",
    "# 03/05 Tuesday\n",
    "# 혼자힘으로 후후\n",
    "class Solution:\n",
    "    def lengthOfLastWord(self, s: str) -> int:\n",
    "        tmp = s.split(' ')\n",
    "        final = [i for i in tmp if i != '']\n",
    "        return len(final[-1])\n",
    "        \n",
    "        "
   ]
  },
  {
   "cell_type": "code",
   "execution_count": 12,
   "metadata": {},
   "outputs": [
    {
     "name": "stdout",
     "output_type": "stream",
     "text": [
      "[1, 0]\n"
     ]
    }
   ],
   "source": [
    "# Plus One\n",
    "# 03/05 Tuesday \n",
    "class Solution:\n",
    "    def plusOne(self, digits: List[int]) -> List[int]:\n",
    "        '''# 일반적인 경우 1씩 증가해서 마지막 인덱스 +1\n",
    "        # +1해서 10으로 바뀐 경우, 자리수하나 추가\n",
    "        if digits[-1] != 9:\n",
    "            digits[-1] = digits[-1] + 1\n",
    "            return digits \n",
    "        else:\n",
    "            # 자리수가 바뀌어야함\n",
    "            digits[-2] += 1\n",
    "            digits[-1] = 0 \n",
    "            return digits '''\n",
    "        for i in range(len(digits) - 1, -1, -1):\n",
    "            if digits[i] < 9:\n",
    "                digits[i] += 1\n",
    "                return digits\n",
    "            else:\n",
    "                digits[i] = 0\n",
    "        return [1] + digits\n",
    "case1 = [1,2,3]\n",
    "case2 = [2,4,5,1,3,5]\n",
    "case3 = [9]\n",
    "case4 = [1,4]\n",
    "res = Solution().plusOne(case3)\n",
    "print(res)"
   ]
  },
  {
   "cell_type": "code",
   "execution_count": 13,
   "metadata": {},
   "outputs": [
    {
     "name": "stdout",
     "output_type": "stream",
     "text": [
      "100\n"
     ]
    }
   ],
   "source": [
    "# Add Binary\n",
    "# 03/05 Tuesday\n",
    "class Solution:\n",
    "    def addBinary(self, a: str, b: str) -> str:\n",
    "        # 먼저, 이진수 문자열 a와 b를 정수로 변환합니다.\n",
    "        # int() 함수의 두 번째 인자로 2를 주면 이진수 문자열을 정수로 변환합니다.\n",
    "        int_a = int(a, 2)\n",
    "        int_b = int(b, 2)\n",
    "        \n",
    "        # 변환된 두 정수를 더합니다.\n",
    "        sum_ab = int_a + int_b\n",
    "        \n",
    "        # 더한 결과를 이진수 문자열로 변환합니다.\n",
    "        # bin() 함수는 정수를 이진수 문자열로 변환하는데, 앞에 '0b'가 붙기 때문에\n",
    "        # 슬라이싱을 이용해 '0b'를 제거합니다.\n",
    "        binary_sum_ab = bin(sum_ab)[2:]\n",
    "        \n",
    "        return binary_sum_ab\n",
    "    \n",
    "a1 = \"1010\"\n",
    "b1 = \"1011\"\n",
    "a2 = \"11\"\n",
    "b2 = \"1\"\n",
    "res = Solution().addBinary(a2,b2)\n",
    "print(res)"
   ]
  },
  {
   "cell_type": "code",
   "execution_count": 14,
   "metadata": {},
   "outputs": [
    {
     "name": "stdout",
     "output_type": "stream",
     "text": [
      "3.0\n"
     ]
    }
   ],
   "source": [
    "## Sqrt(x)\n",
    "# 03/05 Tuesday\n",
    "class Solution:\n",
    "    def mySqrt(self, x: int) -> int:\n",
    "        # builtin func말고 제곱근\n",
    "        if x < 2: # 예외케이스 처리\n",
    "            return x\n",
    "        left, right = 2, x // 2      \n",
    "        while left <= right:\n",
    "            pivot = left + (right - left) // 2\n",
    "            num = pivot * pivot\n",
    "            if num > x:\n",
    "                right = pivot -1\n",
    "            elif num < x:\n",
    "                left = pivot + 1\n",
    "            else:\n",
    "                return pivot\n",
    "        return right\n",
    "x = 9.2\n",
    "res = Solution().mySqrt(x)\n",
    "print(res)"
   ]
  },
  {
   "cell_type": "code",
   "execution_count": 15,
   "metadata": {},
   "outputs": [
    {
     "name": "stdout",
     "output_type": "stream",
     "text": [
      "34\n"
     ]
    }
   ],
   "source": [
    "# Climbing stairs\n",
    "# 03/05 Tuesday\n",
    "class Solution:\n",
    "    def climbStairs(self, n: int) -> int:\n",
    "        # 1 or 2 steps\n",
    "        my_array = [0,1,2] \n",
    "        # 예외처리\n",
    "        if n < len(my_array):\n",
    "            return my_array[n]\n",
    "        for i in range(3, n+1):\n",
    "            ith_way = my_array[i-1] + my_array[i-2]\n",
    "            my_array.append(ith_way)\n",
    "        return my_array[n]\n",
    "\n",
    "res = Solution().climbStairs(8)\n",
    "print(res)\n",
    "    \n"
   ]
  },
  {
   "cell_type": "code",
   "execution_count": 18,
   "metadata": {},
   "outputs": [],
   "source": [
    "# Remove Duplicates from sorted List\n",
    "# 03/05 Tuesday\n",
    "# Definition for singly-linked list.\n",
    "# Definition for singly-linked list.\n",
    "# class ListNode:\n",
    "#     def __init__(self, val=0, next=None):\n",
    "#         self.val = val\n",
    "#         self.next = next\n",
    "class Solution:\n",
    "    def deleteDuplicates(self, head: Optional[ListNode]) -> Optional[ListNode]:\n",
    "        if head is None: \n",
    "            return head\n",
    "        cur = head\n",
    "        while cur.next is not None:\n",
    "            if cur.val == cur.next.val:\n",
    "                cur.next = cur.next.next\n",
    "            else:\n",
    "                cur = cur.next\n",
    "        return head\n",
    "        \n",
    "        \n",
    "\n",
    "            \n",
    "        "
   ]
  },
  {
   "cell_type": "code",
   "execution_count": 19,
   "metadata": {},
   "outputs": [
    {
     "name": "stdout",
     "output_type": "stream",
     "text": [
      "[0]\n"
     ]
    }
   ],
   "source": [
    "# 21. Merge Two Sorted Lists\n",
    "# 03/05 Tuesday\n",
    "# 리스트 내림차순..? --> 맞긴한데 리스트가 아닌 Linked List임\n",
    "# (list)새로운 정렬된 리스트를 반환하는 함수는 sorted 함수이고, 리스트 자체를 정렬시켜버리는 것은 sort 함수입니다.\n",
    "\n",
    "from typing import Optional\n",
    "class ListNode:\n",
    "    def __init__(self, val=0, next=None):\n",
    "        self.val = val\n",
    "        self.next = next\n",
    "class Solution:\n",
    "    def mergeTwoLists(self, list1: Optional[ListNode], list2: Optional[ListNode]) -> Optional[ListNode]:\n",
    "        '''\n",
    "        if len(list1) == 0 and len(list2) == 0: \n",
    "            return [] \n",
    "        tmp = list1 + list2 \n",
    "        result = sorted(tmp, reverse = False)\n",
    "        return result \n",
    "        '''\n",
    "        # 초기 헤드 노드 생성\n",
    "        head = tail = ListNode(0)\n",
    "        # list1과 list2가 모두 None이 될 때까지 반복\n",
    "        while list1 and list2:\n",
    "            # 두 리스트의 현재 노드 값을 비교하여 작은 값을 tail 노드로 인동\n",
    "            if list1.val < list2.val: \n",
    "                tail.next = list1 \n",
    "                list1 = list1.next \n",
    "            else: \n",
    "                tail.next = list2 \n",
    "                list2 = list2.next \n",
    "            tail = tail.next \n",
    "            \n",
    "        # list1이나 list2 중 아직 노드가 남아있다면, 남은 노드를 tail 노드 뒤에 연결\n",
    "        tail.next = list1 if list1 else list2 \n",
    "        return head.next\n",
    "        \n",
    "        \n",
    "\n",
    "p1_l1 = [1,2,4]\n",
    "p1_l2 = [1,3,4]\n",
    "\n",
    "p2_l1 = [] \n",
    "p2_l2 = [] \n",
    "\n",
    "p3_l1 = [] \n",
    "p3_l2 = [0]\n",
    "\n",
    "res = Solution().mergeTwoLists(p3_l1, p3_l2)\n",
    "print(res)\n",
    "        \n",
    "        \n",
    "# 연결리스트에 대한 기본 개념이 없었네..."
   ]
  },
  {
   "cell_type": "markdown",
   "metadata": {},
   "source": [
    "### day3"
   ]
  },
  {
   "cell_type": "code",
   "execution_count": 27,
   "metadata": {},
   "outputs": [],
   "source": [
    "# Merge Sorted Array\n",
    "# 03/06\n",
    "class Solution:\n",
    "    def merge(self, nums1: List[int], m: int, nums2: List[int], n: int) -> None:\n",
    "        \"\"\"\n",
    "        Do not return anything, modify nums1 in-place instead.\n",
    "        \"\"\"\n",
    "        del nums1[m:] ## 1. nums1 리스트를 슬라이싱으로 m개까지 자른다.\n",
    "        del nums2[n:] ## 2. nums2 리스트를 슬라이싱으로 n개까지 자른다.\n",
    "        nums1 += nums2 ## 3. num1 리스트에 nums2 리스트를 더하여 합친다.\n",
    "        nums1.sort() ## 4. 합쳐진 nums1 리스트를 정렬한다.\n"
   ]
  },
  {
   "cell_type": "code",
   "execution_count": 28,
   "metadata": {},
   "outputs": [],
   "source": [
    "# Binary Tree Inorder Traversal \n",
    "# 03/06\n",
    "# Definition for a binary tree node.\n",
    "\n",
    "class TreeNode:\n",
    "    def __init__(self, val=0, left=None, right=None):\n",
    "        self.val = val\n",
    "        self.left = left\n",
    "        self.right = right\n",
    "class Solution:\n",
    "    def inorderTraversal(self, root: Optional[TreeNode]) -> List[int]:\n",
    "        output = []\n",
    "        def dfs(node):\n",
    "            if node:\n",
    "                dfs(node.left) # 왼쪽 먼저 탐색해준 후\n",
    "                output.append(node.val) # 현재 val 탐색 후\n",
    "                dfs(node.right) # 오른쪽을 또 탐색해줌        \n",
    "        dfs(root)\n",
    "        return output"
   ]
  },
  {
   "cell_type": "code",
   "execution_count": null,
   "metadata": {},
   "outputs": [],
   "source": [
    "# Same Tree \n",
    "# 03/06\n",
    "# Definition for a binary tree node.\n",
    "# class TreeNode:\n",
    "#     def __init__(self, val=0, left=None, right=None):\n",
    "#         self.val = val\n",
    "#         self.left = left\n",
    "#         self.right = right\n",
    "class Solution:\n",
    "    def isSameTree(self, p: Optional[TreeNode], q: Optional[TreeNode]) -> bool:\n",
    "        "
   ]
  }
 ],
 "metadata": {
  "kernelspec": {
   "display_name": "base",
   "language": "python",
   "name": "python3"
  },
  "language_info": {
   "codemirror_mode": {
    "name": "ipython",
    "version": 3
   },
   "file_extension": ".py",
   "mimetype": "text/x-python",
   "name": "python",
   "nbconvert_exporter": "python",
   "pygments_lexer": "ipython3",
   "version": "3.9.12"
  }
 },
 "nbformat": 4,
 "nbformat_minor": 2
}

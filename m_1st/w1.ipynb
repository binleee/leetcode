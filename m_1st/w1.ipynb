{
 "cells": [
  {
   "cell_type": "code",
   "execution_count": 18,
   "metadata": {},
   "outputs": [],
   "source": [
    "# 9. palindrome number\n",
    "# 03/04 Monday\n",
    "# [::-1]은 역순으로 \n",
    "class Solution:\n",
    "  def isPalindrome(self, x: int) -> bool:\n",
    "    return False if x < 0 else str(x)[::-1] == str(x)\n",
    "param_1 = 121\n",
    "\n",
    "ret = Solution().isPalindrome(param_1)\n"
   ]
  },
  {
   "cell_type": "code",
   "execution_count": 22,
   "metadata": {},
   "outputs": [
    {
     "name": "stdout",
     "output_type": "stream",
     "text": [
      "58\n"
     ]
    }
   ],
   "source": [
    "# 13. Roman to Integer\n",
    "# 03/04 Monday\n",
    "# 간단하게\n",
    "class Solution(object):\n",
    "    def romanToInt(self, s):\n",
    "        roman = {'I':1, 'V': 5, 'X' : 10, 'L' : 50, 'C' : 100, 'D' : 500, 'M' : 1000}\n",
    "        answer = 0\n",
    "        \n",
    "        for i in range(len(s)-1):\n",
    "            if roman[s[i]] < roman[s[i+1]]:\n",
    "                answer -= roman[s[i]]\n",
    "            else:\n",
    "                answer += roman[s[i]]\n",
    "        return answer + roman[s[-1]]\n",
    "   \n",
    "param_1 = \"LVIII\"\n",
    "ret = Solution().romanToInt(param_1)\n",
    "print(ret)"
   ]
  },
  {
   "cell_type": "code",
   "execution_count": 28,
   "metadata": {},
   "outputs": [
    {
     "name": "stdout",
     "output_type": "stream",
     "text": [
      "fl\n"
     ]
    }
   ],
   "source": [
    "# 14. Longest Common prefix\n",
    "# 03/04 Monday\n",
    "from typing import List \n",
    "class Solution:\n",
    "    def longestCommonPrefix(self, strs: List[str]) -> str:\n",
    "        if not strs: \n",
    "            return \"\"\n",
    "            \n",
    "        shortest_str = min(strs, key=len)  # 가장 짧은 문자열을 찾습니다.\n",
    "        \n",
    "        for i, char in enumerate(shortest_str):\n",
    "            for other in strs:\n",
    "                if other[i] != char:  # 다른 문자열과 비교하여 같은 위치의 문자가 다르면, 그 전까지의 접두사를 반환합니다.\n",
    "                    return shortest_str[:i]\n",
    "        \n",
    "        return shortest_str  # 모든 문자열이 같은 접두사를 가지면, 가장 짧은 문자열을 반환합니다.\n",
    "            \n",
    "\n",
    "        \n",
    "param_1 = [\"flower\",\"flow\",\"flight\"] \n",
    "ret = Solution().longestCommonPrefix(param_1)\n",
    "print(ret)\n"
   ]
  },
  {
   "cell_type": "code",
   "execution_count": 34,
   "metadata": {},
   "outputs": [
    {
     "name": "stdout",
     "output_type": "stream",
     "text": [
      "True\n"
     ]
    }
   ],
   "source": [
    "# 20. Valid Parentheses \n",
    "# 03/04 Monday\n",
    "class Solution:\n",
    "    def isValid(self, s: str) -> bool:\n",
    "\n",
    "        bracket_map = {\"(\": \")\", \"[\": \"]\",  \"{\": \"}\"}\n",
    "        open_par = set([\"(\", \"[\", \"{\"])\n",
    "        stack = []\n",
    "\n",
    "        for i in s:\n",
    "            if i in open_par:\n",
    "                stack.append(i)\n",
    "            elif stack and i == bracket_map[stack[-1]]:\n",
    "                    stack.pop()\n",
    "            else:\n",
    "                return False\n",
    "        return stack == []\n",
    "param_1 = '()'\n",
    "param_2 = \"()[]\"\n",
    "ret = Solution().isValid(param_1)\n",
    "print(ret)"
   ]
  },
  {
   "cell_type": "code",
   "execution_count": null,
   "metadata": {},
   "outputs": [],
   "source": [
    "# 21. Merge Two Sorted Lists\n",
    "from typing import Optional, \n",
    "# Definition for singly-linked list.\n",
    "# class ListNode:\n",
    "#     def __init__(self, val=0, next=None):\n",
    "#         self.val = val\n",
    "#         self.next = next\n",
    "class Solution:\n",
    "    def mergeTwoLists(self, list1: Optional[ListNode], list2: Optional[ListNode]) -> Optional[ListNode]:"
   ]
  }
 ],
 "metadata": {
  "kernelspec": {
   "display_name": "base",
   "language": "python",
   "name": "python3"
  },
  "language_info": {
   "codemirror_mode": {
    "name": "ipython",
    "version": 3
   },
   "file_extension": ".py",
   "mimetype": "text/x-python",
   "name": "python",
   "nbconvert_exporter": "python",
   "pygments_lexer": "ipython3",
   "version": "3.9.12"
  }
 },
 "nbformat": 4,
 "nbformat_minor": 2
}
